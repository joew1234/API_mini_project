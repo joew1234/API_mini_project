{
 "cells": [
  {
   "cell_type": "markdown",
   "metadata": {},
   "source": [
    "This exercise will require you to pull some data from the Qunadl API. Qaundl is currently the most widely used aggregator of financial market data."
   ]
  },
  {
   "cell_type": "markdown",
   "metadata": {},
   "source": [
    "As a first step, you will need to register a free account on the http://www.quandl.com website."
   ]
  },
  {
   "cell_type": "markdown",
   "metadata": {},
   "source": [
    "After you register, you will be provided with a unique API key, that you should store:"
   ]
  },
  {
   "cell_type": "code",
   "execution_count": 1,
   "metadata": {},
   "outputs": [],
   "source": [
    "# Store the API key as a string - according to PEP8, constants are always named in all upper case\n",
    "import config\n",
    "API_KEY = config.api_key"
   ]
  },
  {
   "cell_type": "markdown",
   "metadata": {},
   "source": [
    "Qaundl has a large number of data sources, but, unfortunately, most of them require a Premium subscription. Still, there are also a good number of free datasets."
   ]
  },
  {
   "cell_type": "markdown",
   "metadata": {},
   "source": [
    "For this mini project, we will focus on equities data from the Frankfurt Stock Exhange (FSE), which is available for free. We'll try and analyze the stock prices of a company called Carl Zeiss Meditec, which manufactures tools for eye examinations, as well as medical lasers for laser eye surgery: https://www.zeiss.com/meditec/int/home.html. The company is listed under the stock ticker AFX_X."
   ]
  },
  {
   "cell_type": "markdown",
   "metadata": {},
   "source": [
    "You can find the detailed Quandl API instructions here: https://docs.quandl.com/docs/time-series"
   ]
  },
  {
   "cell_type": "markdown",
   "metadata": {},
   "source": [
    "While there is a dedicated Python package for connecting to the Quandl API, we would prefer that you use the *requests* package, which can be easily downloaded using *pip* or *conda*. You can find the documentation for the package here: http://docs.python-requests.org/en/master/ "
   ]
  },
  {
   "cell_type": "markdown",
   "metadata": {},
   "source": [
    "Finally, apart from the *requests* package, you are encouraged to not use any third party Python packages, such as *pandas*, and instead focus on what's available in the Python Standard Library (the *collections* module might come in handy: https://pymotw.com/3/collections/ ).\n",
    "Also, since you won't have access to DataFrames, you are encouraged to us Python's native data structures - preferably dictionaries, though some questions can also be answered using lists.\n",
    "You can read more on these data structures here: https://docs.python.org/3/tutorial/datastructures.html"
   ]
  },
  {
   "cell_type": "markdown",
   "metadata": {},
   "source": [
    "Keep in mind that the JSON responses you will be getting from the API map almost one-to-one to Python's dictionaries. Unfortunately, they can be very nested, so make sure you read up on indexing dictionaries in the documentation provided above."
   ]
  },
  {
   "cell_type": "code",
   "execution_count": 2,
   "metadata": {},
   "outputs": [],
   "source": [
    "# First, import the relevant modules\n",
    "import requests"
   ]
  },
  {
   "cell_type": "code",
   "execution_count": 3,
   "metadata": {},
   "outputs": [],
   "source": [
    "# Now, call the Quandl API and pull out a small sample of the data (only one day) to get a glimpse\n",
    "# into the JSON structure that will be returned\n",
    "DATABASE_CODE = 'FSE/AFX_X'\n",
    "DATA_TYPE = '.json'\n",
    "START_DATE = 'start_date=2017-01-01'\n",
    "END_DATE = 'end_date=2017-12-31'\n",
    "ORDER = 'asc'\n",
    "api_call = 'https://www.quandl.com/api/v3/datasets/'+DATABASE_CODE+'/data'+DATA_TYPE+'?'+START_DATE+'&'+END_DATE+'&order='+ORDER+'&api_key='+API_KEY\n",
    "r = requests.get(api_call)\n",
    "database = r.json()['dataset_data']"
   ]
  },
  {
   "cell_type": "code",
   "execution_count": 4,
   "metadata": {},
   "outputs": [
    {
     "data": {
      "text/plain": [
       "dict_keys(['limit', 'transform', 'column_index', 'column_names', 'start_date', 'end_date', 'frequency', 'data', 'collapse', 'order'])"
      ]
     },
     "execution_count": 4,
     "metadata": {},
     "output_type": "execute_result"
    }
   ],
   "source": [
    "database.keys()"
   ]
  },
  {
   "cell_type": "code",
   "execution_count": 5,
   "metadata": {},
   "outputs": [
    {
     "data": {
      "text/plain": [
       "['Date',\n",
       " 'Open',\n",
       " 'High',\n",
       " 'Low',\n",
       " 'Close',\n",
       " 'Change',\n",
       " 'Traded Volume',\n",
       " 'Turnover',\n",
       " 'Last Price of the Day',\n",
       " 'Daily Traded Units',\n",
       " 'Daily Turnover']"
      ]
     },
     "execution_count": 5,
     "metadata": {},
     "output_type": "execute_result"
    }
   ],
   "source": [
    "database['column_names']"
   ]
  },
  {
   "cell_type": "code",
   "execution_count": 6,
   "metadata": {},
   "outputs": [],
   "source": [
    "# Inspect the JSON structure of the object you created, and take note of how nested it is,\n",
    "# as well as the overall structure"
   ]
  },
  {
   "cell_type": "markdown",
   "metadata": {},
   "source": [
    "These are your tasks for this mini project:\n",
    "\n",
    "1. Collect data from the Franfurt Stock Exchange, for the ticker AFX_X, for the whole year 2017 (keep in mind that the date format is YYYY-MM-DD).\n",
    "2. Convert the returned JSON object into a Python dictionary.\n",
    "3. Calculate what the highest and lowest opening prices were for the stock in this period.\n",
    "4. What was the largest change in any one day (based on High and Low price)?\n",
    "5. What was the largest change between any two days (based on Closing Price)?\n",
    "6. What was the average daily trading volume during this year?\n",
    "7. (Optional) What was the median trading volume during this year. (Note: you may need to implement your own function for calculating the median.)"
   ]
  },
  {
   "cell_type": "code",
   "execution_count": 7,
   "metadata": {},
   "outputs": [
    {
     "name": "stdout",
     "output_type": "stream",
     "text": [
      "highest opening price: $53.11\n",
      "lowest opening price: $34.0\n"
     ]
    }
   ],
   "source": [
    "#Highest and lowest opening prices:\n",
    "data = database['data']\n",
    "highest_open = data[0][1]\n",
    "lowest_open = data[0][1]\n",
    "for day in data:\n",
    "    open_price = day[1]\n",
    "    if open_price != None: #some days had None value for open price\n",
    "        lowest_open = min(lowest_open, open_price)\n",
    "        highest_open = max(highest_open,open_price)\n",
    "print('highest opening price: $'+str(highest_open))\n",
    "print('lowest opening price: $'+str(lowest_open))"
   ]
  },
  {
   "cell_type": "code",
   "execution_count": 8,
   "metadata": {},
   "outputs": [
    {
     "name": "stdout",
     "output_type": "stream",
     "text": [
      "Largest intraday change (absolute value): $0.9499999999999957\n"
     ]
    }
   ],
   "source": [
    "#Largest change in any one day (High-Low):\n",
    "largest_intraday_change = abs(data[0][3]-data[0][2])\n",
    "for day in data:\n",
    "    intraday_change = abs(day[3]-day[2])\n",
    "    largest_change_intraday = max(intraday_change,largest_intraday_change)\n",
    "print('Largest intraday change (absolute value): $'+str(largest_change_intraday))\n"
   ]
  },
  {
   "cell_type": "code",
   "execution_count": 9,
   "metadata": {},
   "outputs": [
    {
     "name": "stdout",
     "output_type": "stream",
     "text": [
      "Largest change between two days (absolute value, closing prices): $0.9099999999999966\n"
     ]
    }
   ],
   "source": [
    "#Largest change between two days (Closing Prices):\n",
    "data_difference = list(zip(data[:-1],data[1:]))\n",
    "largest_interday_change = abs(data_difference[0][0][1]-data_difference[0][1][1])\n",
    "for day in data_difference:\n",
    "    if (day[0][1] != None) and (day[1][1] != None):\n",
    "        interday_change = abs(day[0][1]-day[1][1])\n",
    "        largest_change_interday = max(interday_change,largest_interday_change)\n",
    "print('Largest change between two days (absolute value, closing prices): $'+str(largest_change_interday))"
   ]
  },
  {
   "cell_type": "code",
   "execution_count": 10,
   "metadata": {},
   "outputs": [
    {
     "name": "stdout",
     "output_type": "stream",
     "text": [
      "Average daily trading volume in 2017: 89124.33725490196\n"
     ]
    }
   ],
   "source": [
    "#Average daily trading volume in 2017:\n",
    "6\n",
    "daily_volume_list = [day[6] for day in data]\n",
    "average_volume = sum(daily_volume_list)/len(daily_volume_list)\n",
    "print('Average daily trading volume in 2017: '+str(average_volume))"
   ]
  },
  {
   "cell_type": "code",
   "execution_count": 11,
   "metadata": {},
   "outputs": [
    {
     "name": "stdout",
     "output_type": "stream",
     "text": [
      "Median trading volume in 2017: 76286.0\n"
     ]
    }
   ],
   "source": [
    "#Median trading volume in 2017:\n",
    "median_position = int((len(daily_volume_list)-1)/2)\n",
    "median_trading_volume = sorted(daily_volume_list)[median_position]\n",
    "print('Median trading volume in 2017: '+str(median_trading_volume))"
   ]
  }
 ],
 "metadata": {
  "kernelspec": {
   "display_name": "Python 3",
   "language": "python",
   "name": "python3"
  },
  "language_info": {
   "codemirror_mode": {
    "name": "ipython",
    "version": 3
   },
   "file_extension": ".py",
   "mimetype": "text/x-python",
   "name": "python",
   "nbconvert_exporter": "python",
   "pygments_lexer": "ipython3",
   "version": "3.7.6"
  }
 },
 "nbformat": 4,
 "nbformat_minor": 2
}
